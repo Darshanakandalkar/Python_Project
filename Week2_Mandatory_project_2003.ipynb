{
  "nbformat": 4,
  "nbformat_minor": 0,
  "metadata": {
    "colab": {
      "provenance": []
    },
    "kernelspec": {
      "name": "python3",
      "display_name": "Python 3"
    },
    "language_info": {
      "name": "python"
    }
  },
  "cells": [
    {
      "cell_type": "code",
      "execution_count": null,
      "metadata": {
        "id": "dukXB9Cy7v8w"
      },
      "outputs": [],
      "source": [
        "import pandas as pd #Pandas is a Python library."
      ]
    },
    {
      "cell_type": "code",
      "source": [
        "ds = pd.read_excel(\"/Dataset.xlsx\")\n",
        "ds1 = pd.DataFrame(ds)\n",
        "print(ds1)"
      ],
      "metadata": {
        "colab": {
          "base_uri": "https://localhost:8080/"
        },
        "id": "4JmxdX9I-kFh",
        "outputId": "79ec54bf-4b47-4af6-d93f-9e7d7a3a1413"
      },
      "execution_count": null,
      "outputs": [
        {
          "output_type": "stream",
          "name": "stdout",
          "text": [
            "       longitude  latitude  housing_median_age  total_rooms  total_bedrooms  \\\n",
            "0        -122.23     37.88                  41          880           129.0   \n",
            "1        -122.22     37.86                  21         7099          1106.0   \n",
            "2        -122.24     37.85                  52         1467           190.0   \n",
            "3        -122.25     37.85                  52         1274           235.0   \n",
            "4        -122.25     37.85                  52         1627           280.0   \n",
            "...          ...       ...                 ...          ...             ...   \n",
            "20635    -121.09     39.48                  25         1665           374.0   \n",
            "20636    -121.21     39.49                  18          697           150.0   \n",
            "20637    -121.22     39.43                  17         2254           485.0   \n",
            "20638    -121.32     39.43                  18         1860           409.0   \n",
            "20639    -121.24     39.37                  16         2785           616.0   \n",
            "\n",
            "       population  households  median_income  median_house_value  \\\n",
            "0             322         126         8.3252              452600   \n",
            "1            2401        1138         8.3014              358500   \n",
            "2             496         177         7.2574              352100   \n",
            "3             558         219         5.6431              341300   \n",
            "4             565         259         3.8462              342200   \n",
            "...           ...         ...            ...                 ...   \n",
            "20635         845         330         1.5603               78100   \n",
            "20636         356         114         2.5568               77100   \n",
            "20637        1007         433         1.7000               92300   \n",
            "20638         741         349         1.8672               84700   \n",
            "20639        1387         530         2.3886               89400   \n",
            "\n",
            "      ocean_proximity  \n",
            "0            NEAR BAY  \n",
            "1            NEAR BAY  \n",
            "2            NEAR BAY  \n",
            "3            NEAR BAY  \n",
            "4            NEAR BAY  \n",
            "...               ...  \n",
            "20635          INLAND  \n",
            "20636          INLAND  \n",
            "20637          INLAND  \n",
            "20638          INLAND  \n",
            "20639          INLAND  \n",
            "\n",
            "[20640 rows x 10 columns]\n"
          ]
        }
      ]
    },
    {
      "cell_type": "code",
      "source": [
        "from google.colab import drive\n",
        "drive.mount('/content/drive')"
      ],
      "metadata": {
        "id": "y_ZkzaIt8vIk"
      },
      "execution_count": null,
      "outputs": []
    },
    {
      "cell_type": "code",
      "source": [
        "ds1.info()"
      ],
      "metadata": {
        "colab": {
          "base_uri": "https://localhost:8080/"
        },
        "id": "Qjpff6OYEr5g",
        "outputId": "668c647c-7ae1-4353-c06f-751d7a070feb"
      },
      "execution_count": null,
      "outputs": [
        {
          "output_type": "stream",
          "name": "stdout",
          "text": [
            "<class 'pandas.core.frame.DataFrame'>\n",
            "RangeIndex: 20640 entries, 0 to 20639\n",
            "Data columns (total 10 columns):\n",
            " #   Column              Non-Null Count  Dtype  \n",
            "---  ------              --------------  -----  \n",
            " 0   longitude           20640 non-null  float64\n",
            " 1   latitude            20640 non-null  float64\n",
            " 2   housing_median_age  20640 non-null  int64  \n",
            " 3   total_rooms         20640 non-null  int64  \n",
            " 4   total_bedrooms      20433 non-null  float64\n",
            " 5   population          20640 non-null  int64  \n",
            " 6   households          20640 non-null  int64  \n",
            " 7   median_income       20640 non-null  float64\n",
            " 8   median_house_value  20640 non-null  int64  \n",
            " 9   ocean_proximity     20640 non-null  object \n",
            "dtypes: float64(4), int64(5), object(1)\n",
            "memory usage: 1.6+ MB\n"
          ]
        }
      ]
    },
    {
      "cell_type": "code",
      "source": [
        "#1. What is the average median income of the data set and check the distribution of data using appropriate plots.\n",
        "#Please explain the distribution of the plot."
      ],
      "metadata": {
        "id": "8SErbt1WB-Hf"
      },
      "execution_count": null,
      "outputs": []
    },
    {
      "cell_type": "code",
      "source": [
        "import pandas as pd #Pandas is a Python library.\n",
        "import matplotlib.pyplot as plt # plt is an abbreviation of pyplot.\n",
        "#Pyplot is a collection of functions in the popular visualization package Matplotlib.\n",
        "#Its functions manipulate elements of a figure, such as creating a figure,\n",
        "#creating a plotting area, plotting lines, adding plot labels, etc.\n",
        "import seaborn as sns #Seaborn is a library that uses Matplotlib underneath to plot graphs."
      ],
      "metadata": {
        "id": "F9jfyWP4Fskf"
      },
      "execution_count": null,
      "outputs": []
    },
    {
      "cell_type": "code",
      "source": [],
      "metadata": {
        "id": "ShmD6zoPOR-d"
      },
      "execution_count": null,
      "outputs": []
    },
    {
      "cell_type": "code",
      "source": [
        "average_median_income=ds1['median_income'].mean()\n",
        "#mean() function is used to calculate the mean/average of input values or data set.\n",
        "print(\"Average median income of the data set is\",average_median_income)"
      ],
      "metadata": {
        "colab": {
          "base_uri": "https://localhost:8080/"
        },
        "id": "13KPnSe9J5wo",
        "outputId": "4b929e2d-1280-4215-bfbe-857072e40eb3"
      },
      "execution_count": null,
      "outputs": [
        {
          "output_type": "stream",
          "name": "stdout",
          "text": [
            "Average median income of the data set is 3.8706710029069766\n"
          ]
        }
      ]
    },
    {
      "cell_type": "code",
      "source": [
        "ds1['median_income'].plot(kind='hist',bins=20,edgecolor=\"black\",layout=(9, 4))"
      ],
      "metadata": {
        "colab": {
          "base_uri": "https://localhost:8080/",
          "height": 283
        },
        "id": "JUjf5LTvE_y-",
        "outputId": "e8b6ac19-58fd-421d-c065-09fd3c02b138"
      },
      "execution_count": null,
      "outputs": [
        {
          "output_type": "execute_result",
          "data": {
            "text/plain": [
              "<matplotlib.axes._subplots.AxesSubplot at 0x7f0216b947c0>"
            ]
          },
          "metadata": {},
          "execution_count": 119
        },
        {
          "output_type": "display_data",
          "data": {
            "text/plain": [
              "<Figure size 432x288 with 1 Axes>"
            ],
            "image/png": "[encoded data removed]"
          },
          "metadata": {
            "needs_background": "light"
          }
        }
      ]
    },
    {
      "cell_type": "code",
      "source": [
        "ds1.hist(bins=20, figsize=(12, 22), edgecolor=\"black\",\n",
        "                    layout=(9, 4))\n",
        "plt.subplots_adjust(hspace=0.8, wspace=0.8)"
      ],
      "metadata": {
        "colab": {
          "base_uri": "https://localhost:8080/",
          "height": 421
        },
        "id": "lLJiude3HDRW",
        "outputId": "86844eee-f92d-477a-d03d-9e7732e23229"
      },
      "execution_count": null,
      "outputs": [
        {
          "output_type": "display_data",
          "data": {
            "text/plain": [
              "<Figure size 864x1584 with 36 Axes>"
            ],
            "image/png": "[encoded data removed]"
          },
          "metadata": {
            "needs_background": "light"
          }
        }
      ]
    },
    {
      "cell_type": "code",
      "source": [
        "#2. Draw an appropriate plot to see the distribution of housing_median_age and explain your observations.\n",
        "ds1['housing_median_age'].plot(kind='hist',bins=20,edgecolor=\"black\",layout=(9, 6))"
      ],
      "metadata": {
        "id": "zYfeSOQEMTJ_",
        "colab": {
          "base_uri": "https://localhost:8080/",
          "height": 282
        },
        "outputId": "fd91df33-8994-4f54-a9fa-8c1ad6c5e2bf"
      },
      "execution_count": null,
      "outputs": [
        {
          "output_type": "execute_result",
          "data": {
            "text/plain": [
              "<matplotlib.axes._subplots.AxesSubplot at 0x7f5eb673e340>"
            ]
          },
          "metadata": {},
          "execution_count": 6
        },
        {
          "output_type": "display_data",
          "data": {
            "text/plain": [
              "<Figure size 432x288 with 1 Axes>"
            ],
            "image/png": "[encoded data removed]"
          },
          "metadata": {
            "needs_background": "light"
          }
        }
      ]
    },
    {
      "cell_type": "code",
      "source": [
        "#3. Show with the help of visualization, how median_income and median_house_values are related?"
      ],
      "metadata": {
        "id": "84NCjiAOMY4e"
      },
      "execution_count": null,
      "outputs": []
    },
    {
      "cell_type": "code",
      "source": [
        "sns.scatterplot(x='median_income',y= 'median_house_value', data = ds1,color=\"red\")"
      ],
      "metadata": {
        "colab": {
          "base_uri": "https://localhost:8080/",
          "height": 297
        },
        "id": "OlWMkE4xRn3I",
        "outputId": "83bcc5d2-f5e5-43d0-9972-35b937579ce9"
      },
      "execution_count": null,
      "outputs": [
        {
          "output_type": "execute_result",
          "data": {
            "text/plain": [
              "<matplotlib.axes._subplots.AxesSubplot at 0x7f5eaecdebe0>"
            ]
          },
          "metadata": {},
          "execution_count": 18
        },
        {
          "output_type": "display_data",
          "data": {
            "text/plain": [
              "<Figure size 432x288 with 1 Axes>"
            ],
            "image/png": "[encoded data removed]"
          },
          "metadata": {
            "needs_background": "light"
          }
        }
      ]
    },
    {
      "cell_type": "code",
      "source": [
        "#4. Create a data set by deleting the corresponding examples from the data set for which total_bedrooms are not available."
      ],
      "metadata": {
        "id": "l5DFw373MdDt"
      },
      "execution_count": null,
      "outputs": []
    },
    {
      "cell_type": "code",
      "source": [
        "tbd = ds1.drop(columns=['total_bedrooms'])#The drop() method removes the specified row or column.\n",
        "tbd"
      ],
      "metadata": {
        "colab": {
          "base_uri": "https://localhost:8080/",
          "height": 423
        },
        "id": "U8Hq0reZNyWW",
        "outputId": "c7553f83-c584-4d18-fed9-6728ee5c436e"
      },
      "execution_count": null,
      "outputs": [
        {
          "output_type": "execute_result",
          "data": {
            "text/plain": [
              "       longitude  latitude  housing_median_age  total_rooms  population  \\\n",
              "0        -122.23     37.88                  41          880         322   \n",
              "1        -122.22     37.86                  21         7099        2401   \n",
              "2        -122.24     37.85                  52         1467         496   \n",
              "3        -122.25     37.85                  52         1274         558   \n",
              "4        -122.25     37.85                  52         1627         565   \n",
              "...          ...       ...                 ...          ...         ...   \n",
              "20635    -121.09     39.48                  25         1665         845   \n",
              "20636    -121.21     39.49                  18          697         356   \n",
              "20637    -121.22     39.43                  17         2254        1007   \n",
              "20638    -121.32     39.43                  18         1860         741   \n",
              "20639    -121.24     39.37                  16         2785        1387   \n",
              "\n",
              "       households  median_income  median_house_value ocean_proximity  \n",
              "0             126         8.3252              452600        NEAR BAY  \n",
              "1            1138         8.3014              358500        NEAR BAY  \n",
              "2             177         7.2574              352100        NEAR BAY  \n",
              "3             219         5.6431              341300        NEAR BAY  \n",
              "4             259         3.8462              342200        NEAR BAY  \n",
              "...           ...            ...                 ...             ...  \n",
              "20635         330         1.5603               78100          INLAND  \n",
              "20636         114         2.5568               77100          INLAND  \n",
              "20637         433         1.7000               92300          INLAND  \n",
              "20638         349         1.8672               84700          INLAND  \n",
              "20639         530         2.3886               89400          INLAND  \n",
              "\n",
              "[20640 rows x 9 columns]"
            ],
            "text/html": [
              "\n",
              "  <div id=\"df-3ea00c46-d804-4ffa-905d-f606a326405f\">\n",
              "    <div class=\"colab-df-container\">\n",
              "      <div>\n",
              "<style scoped>\n",
              "    .dataframe tbody tr th:only-of-type {\n",
              "        vertical-align: middle;\n",
              "    }\n",
              "\n",
              "    .dataframe tbody tr th {\n",
              "        vertical-align: top;\n",
              "    }\n",
              "\n",
              "    .dataframe thead th {\n",
              "        text-align: right;\n",
              "    }\n",
              "</style>\n",
              "<table border=\"1\" class=\"dataframe\">\n",
              "  <thead>\n",
              "    <tr style=\"text-align: right;\">\n",
              "      <th></th>\n",
              "      <th>longitude</th>\n",
              "      <th>latitude</th>\n",
              "      <th>housing_median_age</th>\n",
              "      <th>total_rooms</th>\n",
              "      <th>population</th>\n",
              "      <th>households</th>\n",
              "      <th>median_income</th>\n",
              "      <th>median_house_value</th>\n",
              "      <th>ocean_proximity</th>\n",
              "    </tr>\n",
              "  </thead>\n",
              "  <tbody>\n",
              "    <tr>\n",
              "      <th>0</th>\n",
              "      <td>-122.23</td>\n",
              "      <td>37.88</td>\n",
              "      <td>41</td>\n",
              "      <td>880</td>\n",
              "      <td>322</td>\n",
              "      <td>126</td>\n",
              "      <td>8.3252</td>\n",
              "      <td>452600</td>\n",
              "      <td>NEAR BAY</td>\n",
              "    </tr>\n",
              "    <tr>\n",
              "      <th>1</th>\n",
              "      <td>-122.22</td>\n",
              "      <td>37.86</td>\n",
              "      <td>21</td>\n",
              "      <td>7099</td>\n",
              "      <td>2401</td>\n",
              "      <td>1138</td>\n",
              "      <td>8.3014</td>\n",
              "      <td>358500</td>\n",
              "      <td>NEAR BAY</td>\n",
              "    </tr>\n",
              "    <tr>\n",
              "      <th>2</th>\n",
              "      <td>-122.24</td>\n",
              "      <td>37.85</td>\n",
              "      <td>52</td>\n",
              "      <td>1467</td>\n",
              "      <td>496</td>\n",
              "      <td>177</td>\n",
              "      <td>7.2574</td>\n",
              "      <td>352100</td>\n",
              "      <td>NEAR BAY</td>\n",
              "    </tr>\n",
              "    <tr>\n",
              "      <th>3</th>\n",
              "      <td>-122.25</td>\n",
              "      <td>37.85</td>\n",
              "      <td>52</td>\n",
              "      <td>1274</td>\n",
              "      <td>558</td>\n",
              "      <td>219</td>\n",
              "      <td>5.6431</td>\n",
              "      <td>341300</td>\n",
              "      <td>NEAR BAY</td>\n",
              "    </tr>\n",
              "    <tr>\n",
              "      <th>4</th>\n",
              "      <td>-122.25</td>\n",
              "      <td>37.85</td>\n",
              "      <td>52</td>\n",
              "      <td>1627</td>\n",
              "      <td>565</td>\n",
              "      <td>259</td>\n",
              "      <td>3.8462</td>\n",
              "      <td>342200</td>\n",
              "      <td>NEAR BAY</td>\n",
              "    </tr>\n",
              "    <tr>\n",
              "      <th>...</th>\n",
              "      <td>...</td>\n",
              "      <td>...</td>\n",
              "      <td>...</td>\n",
              "      <td>...</td>\n",
              "      <td>...</td>\n",
              "      <td>...</td>\n",
              "      <td>...</td>\n",
              "      <td>...</td>\n",
              "      <td>...</td>\n",
              "    </tr>\n",
              "    <tr>\n",
              "      <th>20635</th>\n",
              "      <td>-121.09</td>\n",
              "      <td>39.48</td>\n",
              "      <td>25</td>\n",
              "      <td>1665</td>\n",
              "      <td>845</td>\n",
              "      <td>330</td>\n",
              "      <td>1.5603</td>\n",
              "      <td>78100</td>\n",
              "      <td>INLAND</td>\n",
              "    </tr>\n",
              "    <tr>\n",
              "      <th>20636</th>\n",
              "      <td>-121.21</td>\n",
              "      <td>39.49</td>\n",
              "      <td>18</td>\n",
              "      <td>697</td>\n",
              "      <td>356</td>\n",
              "      <td>114</td>\n",
              "      <td>2.5568</td>\n",
              "      <td>77100</td>\n",
              "      <td>INLAND</td>\n",
              "    </tr>\n",
              "    <tr>\n",
              "      <th>20637</th>\n",
              "      <td>-121.22</td>\n",
              "      <td>39.43</td>\n",
              "      <td>17</td>\n",
              "      <td>2254</td>\n",
              "      <td>1007</td>\n",
              "      <td>433</td>\n",
              "      <td>1.7000</td>\n",
              "      <td>92300</td>\n",
              "      <td>INLAND</td>\n",
              "    </tr>\n",
              "    <tr>\n",
              "      <th>20638</th>\n",
              "      <td>-121.32</td>\n",
              "      <td>39.43</td>\n",
              "      <td>18</td>\n",
              "      <td>1860</td>\n",
              "      <td>741</td>\n",
              "      <td>349</td>\n",
              "      <td>1.8672</td>\n",
              "      <td>84700</td>\n",
              "      <td>INLAND</td>\n",
              "    </tr>\n",
              "    <tr>\n",
              "      <th>20639</th>\n",
              "      <td>-121.24</td>\n",
              "      <td>39.37</td>\n",
              "      <td>16</td>\n",
              "      <td>2785</td>\n",
              "      <td>1387</td>\n",
              "      <td>530</td>\n",
              "      <td>2.3886</td>\n",
              "      <td>89400</td>\n",
              "      <td>INLAND</td>\n",
              "    </tr>\n",
              "  </tbody>\n",
              "</table>\n",
              "<p>20640 rows × 9 columns</p>\n",
              "</div>\n",
              "      <button class=\"colab-df-convert\" onclick=\"convertToInteractive('df-3ea00c46-d804-4ffa-905d-f606a326405f')\"\n",
              "              title=\"Convert this dataframe to an interactive table.\"\n",
              "              style=\"display:none;\">\n",
              "        \n",
              "  <svg xmlns=\"http://www.w3.org/2000/svg\" height=\"24px\"viewBox=\"0 0 24 24\"\n",
              "       width=\"24px\">\n",
              "    <path d=\"M0 0h24v24H0V0z\" fill=\"none\"/>\n",
              "    <path d=\"M18.56 5.44l.94 2.06.94-2.06 2.06-.94-2.06-.94-.94-2.06-.94 2.06-2.06.94zm-11 1L8.5 8.5l.94-2.06 2.06-.94-2.06-.94L8.5 2.5l-.94 2.06-2.06.94zm10 10l.94 2.06.94-2.06 2.06-.94-2.06-.94-.94-2.06-.94 2.06-2.06.94z\"/><path d=\"M17.41 7.96l-1.37-1.37c-.4-.4-.92-.59-1.43-.59-.52 0-1.04.2-1.43.59L10.3 9.45l-7.72 7.72c-.78.78-.78 2.05 0 2.83L4 21.41c.39.39.9.59 1.41.59.51 0 1.02-.2 1.41-.59l7.78-7.78 2.81-2.81c.8-.78.8-2.07 0-2.86zM5.41 20L4 18.59l7.72-7.72 1.47 1.35L5.41 20z\"/>\n",
              "  </svg>\n",
              "      </button>\n",
              "      \n",
              "  <style>\n",
              "    .colab-df-container {\n",
              "      display:flex;\n",
              "      flex-wrap:wrap;\n",
              "      gap: 12px;\n",
              "    }\n",
              "\n",
              "    .colab-df-convert {\n",
              "      background-color: #E8F0FE;\n",
              "      border: none;\n",
              "      border-radius: 50%;\n",
              "      cursor: pointer;\n",
              "      display: none;\n",
              "      fill: #1967D2;\n",
              "      height: 32px;\n",
              "      padding: 0 0 0 0;\n",
              "      width: 32px;\n",
              "    }\n",
              "\n",
              "    .colab-df-convert:hover {\n",
              "      background-color: #E2EBFA;\n",
              "      box-shadow: 0px 1px 2px rgba(60, 64, 67, 0.3), 0px 1px 3px 1px rgba(60, 64, 67, 0.15);\n",
              "      fill: #174EA6;\n",
              "    }\n",
              "\n",
              "    [theme=dark] .colab-df-convert {\n",
              "      background-color: #3B4455;\n",
              "      fill: #D2E3FC;\n",
              "    }\n",
              "\n",
              "    [theme=dark] .colab-df-convert:hover {\n",
              "      background-color: #434B5C;\n",
              "      box-shadow: 0px 1px 3px 1px rgba(0, 0, 0, 0.15);\n",
              "      filter: drop-shadow(0px 1px 2px rgba(0, 0, 0, 0.3));\n",
              "      fill: #FFFFFF;\n",
              "    }\n",
              "  </style>\n",
              "\n",
              "      <script>\n",
              "        const buttonEl =\n",
              "          document.querySelector('#df-3ea00c46-d804-4ffa-905d-f606a326405f button.colab-df-convert');\n",
              "        buttonEl.style.display =\n",
              "          google.colab.kernel.accessAllowed ? 'block' : 'none';\n",
              "\n",
              "        async function convertToInteractive(key) {\n",
              "          const element = document.querySelector('#df-3ea00c46-d804-4ffa-905d-f606a326405f');\n",
              "          const dataTable =\n",
              "            await google.colab.kernel.invokeFunction('convertToInteractive',\n",
              "                                                     [key], {});\n",
              "          if (!dataTable) return;\n",
              "\n",
              "          const docLinkHtml = 'Like what you see? Visit the ' +\n",
              "            '<a target=\"_blank\" href=https://colab.research.google.com/notebooks/data_table.ipynb>data table notebook</a>'\n",
              "            + ' to learn more about interactive tables.';\n",
              "          element.innerHTML = '';\n",
              "          dataTable['output_type'] = 'display_data';\n",
              "          await google.colab.output.renderOutput(dataTable, element);\n",
              "          const docLink = document.createElement('div');\n",
              "          docLink.innerHTML = docLinkHtml;\n",
              "          element.appendChild(docLink);\n",
              "        }\n",
              "      </script>\n",
              "    </div>\n",
              "  </div>\n",
              "  "
            ]
          },
          "metadata": {},
          "execution_count": 19
        }
      ]
    },
    {
      "cell_type": "code",
      "source": [
        "#5. Create a data set by filling the missing data with the mean value of the total_bedrooms in the original data set.\n",
        "fill_mean = ds1.fillna(ds1[\"total_bedrooms\"].mean())#The fillna() replaces the NULL values with a specified value.\n",
        "fill_mean"
      ],
      "metadata": {
        "colab": {
          "base_uri": "https://localhost:8080/",
          "height": 487
        },
        "id": "rJv7utcHMlpZ",
        "outputId": "e7a751f1-212c-4aaf-ca16-35b570473b88"
      },
      "execution_count": null,
      "outputs": [
        {
          "output_type": "execute_result",
          "data": {
            "text/plain": [
              "       longitude  latitude  housing_median_age  total_rooms  total_bedrooms  \\\n",
              "0        -122.23     37.88                  41          880           129.0   \n",
              "1        -122.22     37.86                  21         7099          1106.0   \n",
              "2        -122.24     37.85                  52         1467           190.0   \n",
              "3        -122.25     37.85                  52         1274           235.0   \n",
              "4        -122.25     37.85                  52         1627           280.0   \n",
              "...          ...       ...                 ...          ...             ...   \n",
              "20635    -121.09     39.48                  25         1665           374.0   \n",
              "20636    -121.21     39.49                  18          697           150.0   \n",
              "20637    -121.22     39.43                  17         2254           485.0   \n",
              "20638    -121.32     39.43                  18         1860           409.0   \n",
              "20639    -121.24     39.37                  16         2785           616.0   \n",
              "\n",
              "       population  households  median_income  median_house_value  \\\n",
              "0             322         126         8.3252              452600   \n",
              "1            2401        1138         8.3014              358500   \n",
              "2             496         177         7.2574              352100   \n",
              "3             558         219         5.6431              341300   \n",
              "4             565         259         3.8462              342200   \n",
              "...           ...         ...            ...                 ...   \n",
              "20635         845         330         1.5603               78100   \n",
              "20636         356         114         2.5568               77100   \n",
              "20637        1007         433         1.7000               92300   \n",
              "20638         741         349         1.8672               84700   \n",
              "20639        1387         530         2.3886               89400   \n",
              "\n",
              "      ocean_proximity  \n",
              "0            NEAR BAY  \n",
              "1            NEAR BAY  \n",
              "2            NEAR BAY  \n",
              "3            NEAR BAY  \n",
              "4            NEAR BAY  \n",
              "...               ...  \n",
              "20635          INLAND  \n",
              "20636          INLAND  \n",
              "20637          INLAND  \n",
              "20638          INLAND  \n",
              "20639          INLAND  \n",
              "\n",
              "[20640 rows x 10 columns]"
            ],
            "text/html": [
              "\n",
              "  <div id=\"df-e6043ae8-b8ac-4ecc-b28c-2ee611f076a3\">\n",
              "    <div class=\"colab-df-container\">\n",
              "      <div>\n",
              "<style scoped>\n",
              "    .dataframe tbody tr th:only-of-type {\n",
              "        vertical-align: middle;\n",
              "    }\n",
              "\n",
              "    .dataframe tbody tr th {\n",
              "        vertical-align: top;\n",
              "    }\n",
              "\n",
              "    .dataframe thead th {\n",
              "        text-align: right;\n",
              "    }\n",
              "</style>\n",
              "<table border=\"1\" class=\"dataframe\">\n",
              "  <thead>\n",
              "    <tr style=\"text-align: right;\">\n",
              "      <th></th>\n",
              "      <th>longitude</th>\n",
              "      <th>latitude</th>\n",
              "      <th>housing_median_age</th>\n",
              "      <th>total_rooms</th>\n",
              "      <th>total_bedrooms</th>\n",
              "      <th>population</th>\n",
              "      <th>households</th>\n",
              "      <th>median_income</th>\n",
              "      <th>median_house_value</th>\n",
              "      <th>ocean_proximity</th>\n",
              "    </tr>\n",
              "  </thead>\n",
              "  <tbody>\n",
              "    <tr>\n",
              "      <th>0</th>\n",
              "      <td>-122.23</td>\n",
              "      <td>37.88</td>\n",
              "      <td>41</td>\n",
              "      <td>880</td>\n",
              "      <td>129.0</td>\n",
              "      <td>322</td>\n",
              "      <td>126</td>\n",
              "      <td>8.3252</td>\n",
              "      <td>452600</td>\n",
              "      <td>NEAR BAY</td>\n",
              "    </tr>\n",
              "    <tr>\n",
              "      <th>1</th>\n",
              "      <td>-122.22</td>\n",
              "      <td>37.86</td>\n",
              "      <td>21</td>\n",
              "      <td>7099</td>\n",
              "      <td>1106.0</td>\n",
              "      <td>2401</td>\n",
              "      <td>1138</td>\n",
              "      <td>8.3014</td>\n",
              "      <td>358500</td>\n",
              "      <td>NEAR BAY</td>\n",
              "    </tr>\n",
              "    <tr>\n",
              "      <th>2</th>\n",
              "      <td>-122.24</td>\n",
              "      <td>37.85</td>\n",
              "      <td>52</td>\n",
              "      <td>1467</td>\n",
              "      <td>190.0</td>\n",
              "      <td>496</td>\n",
              "      <td>177</td>\n",
              "      <td>7.2574</td>\n",
              "      <td>352100</td>\n",
              "      <td>NEAR BAY</td>\n",
              "    </tr>\n",
              "    <tr>\n",
              "      <th>3</th>\n",
              "      <td>-122.25</td>\n",
              "      <td>37.85</td>\n",
              "      <td>52</td>\n",
              "      <td>1274</td>\n",
              "      <td>235.0</td>\n",
              "      <td>558</td>\n",
              "      <td>219</td>\n",
              "      <td>5.6431</td>\n",
              "      <td>341300</td>\n",
              "      <td>NEAR BAY</td>\n",
              "    </tr>\n",
              "    <tr>\n",
              "      <th>4</th>\n",
              "      <td>-122.25</td>\n",
              "      <td>37.85</td>\n",
              "      <td>52</td>\n",
              "      <td>1627</td>\n",
              "      <td>280.0</td>\n",
              "      <td>565</td>\n",
              "      <td>259</td>\n",
              "      <td>3.8462</td>\n",
              "      <td>342200</td>\n",
              "      <td>NEAR BAY</td>\n",
              "    </tr>\n",
              "    <tr>\n",
              "      <th>...</th>\n",
              "      <td>...</td>\n",
              "      <td>...</td>\n",
              "      <td>...</td>\n",
              "      <td>...</td>\n",
              "      <td>...</td>\n",
              "      <td>...</td>\n",
              "      <td>...</td>\n",
              "      <td>...</td>\n",
              "      <td>...</td>\n",
              "      <td>...</td>\n",
              "    </tr>\n",
              "    <tr>\n",
              "      <th>20635</th>\n",
              "      <td>-121.09</td>\n",
              "      <td>39.48</td>\n",
              "      <td>25</td>\n",
              "      <td>1665</td>\n",
              "      <td>374.0</td>\n",
              "      <td>845</td>\n",
              "      <td>330</td>\n",
              "      <td>1.5603</td>\n",
              "      <td>78100</td>\n",
              "      <td>INLAND</td>\n",
              "    </tr>\n",
              "    <tr>\n",
              "      <th>20636</th>\n",
              "      <td>-121.21</td>\n",
              "      <td>39.49</td>\n",
              "      <td>18</td>\n",
              "      <td>697</td>\n",
              "      <td>150.0</td>\n",
              "      <td>356</td>\n",
              "      <td>114</td>\n",
              "      <td>2.5568</td>\n",
              "      <td>77100</td>\n",
              "      <td>INLAND</td>\n",
              "    </tr>\n",
              "    <tr>\n",
              "      <th>20637</th>\n",
              "      <td>-121.22</td>\n",
              "      <td>39.43</td>\n",
              "      <td>17</td>\n",
              "      <td>2254</td>\n",
              "      <td>485.0</td>\n",
              "      <td>1007</td>\n",
              "      <td>433</td>\n",
              "      <td>1.7000</td>\n",
              "      <td>92300</td>\n",
              "      <td>INLAND</td>\n",
              "    </tr>\n",
              "    <tr>\n",
              "      <th>20638</th>\n",
              "      <td>-121.32</td>\n",
              "      <td>39.43</td>\n",
              "      <td>18</td>\n",
              "      <td>1860</td>\n",
              "      <td>409.0</td>\n",
              "      <td>741</td>\n",
              "      <td>349</td>\n",
              "      <td>1.8672</td>\n",
              "      <td>84700</td>\n",
              "      <td>INLAND</td>\n",
              "    </tr>\n",
              "    <tr>\n",
              "      <th>20639</th>\n",
              "      <td>-121.24</td>\n",
              "      <td>39.37</td>\n",
              "      <td>16</td>\n",
              "      <td>2785</td>\n",
              "      <td>616.0</td>\n",
              "      <td>1387</td>\n",
              "      <td>530</td>\n",
              "      <td>2.3886</td>\n",
              "      <td>89400</td>\n",
              "      <td>INLAND</td>\n",
              "    </tr>\n",
              "  </tbody>\n",
              "</table>\n",
              "<p>20640 rows × 10 columns</p>\n",
              "</div>\n",
              "      <button class=\"colab-df-convert\" onclick=\"convertToInteractive('df-e6043ae8-b8ac-4ecc-b28c-2ee611f076a3')\"\n",
              "              title=\"Convert this dataframe to an interactive table.\"\n",
              "              style=\"display:none;\">\n",
              "        \n",
              "  <svg xmlns=\"http://www.w3.org/2000/svg\" height=\"24px\"viewBox=\"0 0 24 24\"\n",
              "       width=\"24px\">\n",
              "    <path d=\"M0 0h24v24H0V0z\" fill=\"none\"/>\n",
              "    <path d=\"M18.56 5.44l.94 2.06.94-2.06 2.06-.94-2.06-.94-.94-2.06-.94 2.06-2.06.94zm-11 1L8.5 8.5l.94-2.06 2.06-.94-2.06-.94L8.5 2.5l-.94 2.06-2.06.94zm10 10l.94 2.06.94-2.06 2.06-.94-2.06-.94-.94-2.06-.94 2.06-2.06.94z\"/><path d=\"M17.41 7.96l-1.37-1.37c-.4-.4-.92-.59-1.43-.59-.52 0-1.04.2-1.43.59L10.3 9.45l-7.72 7.72c-.78.78-.78 2.05 0 2.83L4 21.41c.39.39.9.59 1.41.59.51 0 1.02-.2 1.41-.59l7.78-7.78 2.81-2.81c.8-.78.8-2.07 0-2.86zM5.41 20L4 18.59l7.72-7.72 1.47 1.35L5.41 20z\"/>\n",
              "  </svg>\n",
              "      </button>\n",
              "      \n",
              "  <style>\n",
              "    .colab-df-container {\n",
              "      display:flex;\n",
              "      flex-wrap:wrap;\n",
              "      gap: 12px;\n",
              "    }\n",
              "\n",
              "    .colab-df-convert {\n",
              "      background-color: #E8F0FE;\n",
              "      border: none;\n",
              "      border-radius: 50%;\n",
              "      cursor: pointer;\n",
              "      display: none;\n",
              "      fill: #1967D2;\n",
              "      height: 32px;\n",
              "      padding: 0 0 0 0;\n",
              "      width: 32px;\n",
              "    }\n",
              "\n",
              "    .colab-df-convert:hover {\n",
              "      background-color: #E2EBFA;\n",
              "      box-shadow: 0px 1px 2px rgba(60, 64, 67, 0.3), 0px 1px 3px 1px rgba(60, 64, 67, 0.15);\n",
              "      fill: #174EA6;\n",
              "    }\n",
              "\n",
              "    [theme=dark] .colab-df-convert {\n",
              "      background-color: #3B4455;\n",
              "      fill: #D2E3FC;\n",
              "    }\n",
              "\n",
              "    [theme=dark] .colab-df-convert:hover {\n",
              "      background-color: #434B5C;\n",
              "      box-shadow: 0px 1px 3px 1px rgba(0, 0, 0, 0.15);\n",
              "      filter: drop-shadow(0px 1px 2px rgba(0, 0, 0, 0.3));\n",
              "      fill: #FFFFFF;\n",
              "    }\n",
              "  </style>\n",
              "\n",
              "      <script>\n",
              "        const buttonEl =\n",
              "          document.querySelector('#df-e6043ae8-b8ac-4ecc-b28c-2ee611f076a3 button.colab-df-convert');\n",
              "        buttonEl.style.display =\n",
              "          google.colab.kernel.accessAllowed ? 'block' : 'none';\n",
              "\n",
              "        async function convertToInteractive(key) {\n",
              "          const element = document.querySelector('#df-e6043ae8-b8ac-4ecc-b28c-2ee611f076a3');\n",
              "          const dataTable =\n",
              "            await google.colab.kernel.invokeFunction('convertToInteractive',\n",
              "                                                     [key], {});\n",
              "          if (!dataTable) return;\n",
              "\n",
              "          const docLinkHtml = 'Like what you see? Visit the ' +\n",
              "            '<a target=\"_blank\" href=https://colab.research.google.com/notebooks/data_table.ipynb>data table notebook</a>'\n",
              "            + ' to learn more about interactive tables.';\n",
              "          element.innerHTML = '';\n",
              "          dataTable['output_type'] = 'display_data';\n",
              "          await google.colab.output.renderOutput(dataTable, element);\n",
              "          const docLink = document.createElement('div');\n",
              "          docLink.innerHTML = docLinkHtml;\n",
              "          element.appendChild(docLink);\n",
              "        }\n",
              "      </script>\n",
              "    </div>\n",
              "  </div>\n",
              "  "
            ]
          },
          "metadata": {},
          "execution_count": 14
        }
      ]
    },
    {
      "cell_type": "code",
      "source": [
        "#6. Write a programming construct (create a user defined function) to calculate the median value of the data set wherever required.\n",
        "def med(num):\n",
        "  ds1.sort_values(num)\n",
        "  leng=len(num)\n",
        "  length_odd=True if num%2==0 else False\n",
        "  if length_odd:\n",
        "    ind=leng//2\n",
        "    media=num[ind]\n",
        "  else:\n",
        "    ind1=leng//2\n",
        "    ind2=ind1+1\n",
        "    media=(num[ind1]+num[ind2])/2\n",
        "  return media"
      ],
      "metadata": {
        "id": "IusJSBeqMrya"
      },
      "execution_count": null,
      "outputs": []
    },
    {
      "cell_type": "markdown",
      "source": [],
      "metadata": {
        "id": "MOvNrToNTe5B"
      }
    },
    {
      "cell_type": "markdown",
      "source": [],
      "metadata": {
        "id": "En3RoNPBTezb"
      }
    },
    {
      "cell_type": "code",
      "source": [
        "#7. Plot latitude versus longitude and explain your observations.\n",
        "sns.scatterplot(data=ds1, x=\"longitude\", y=\"latitude\",\n",
        "                size=\"median_house_value\", hue=\"median_house_value\",\n",
        "                palette=\"viridis\", alpha=0.5)\n",
        "_ = plt.title(\"Median house value depending on their location\")"
      ],
      "metadata": {
        "colab": {
          "base_uri": "https://localhost:8080/",
          "height": 295
        },
        "id": "yISqm7vUMxRX",
        "outputId": "294df378-b613-4231-c57c-144bfdc1c706"
      },
      "execution_count": null,
      "outputs": [
        {
          "output_type": "display_data",
          "data": {
            "text/plain": [
              "<Figure size 432x288 with 1 Axes>"
            ],
            "image/png": "[encoded data removed]"
          },
          "metadata": {
            "needs_background": "light"
          }
        }
      ]
    },
    {
      "cell_type": "code",
      "source": [
        "#8. Create a data set for which the ocean_proximity is ‘Near ocean’.\n",
        "dsn = ds1.loc[ds1['ocean_proximity'] == 'NEAR OCEAN']\n",
        "#The .loc property of the DataFrame object allows the return of specified rows or columns from that DataFrame\n",
        "print(dsn)"
      ],
      "metadata": {
        "colab": {
          "base_uri": "https://localhost:8080/"
        },
        "id": "IyBvkSCiM03u",
        "outputId": "5aa5b202-d334-499f-90a4-de056d2ff712"
      },
      "execution_count": null,
      "outputs": [
        {
          "output_type": "stream",
          "name": "stdout",
          "text": [
            "       longitude  latitude  housing_median_age  total_rooms  total_bedrooms  \\\n",
            "1850     -124.17     41.80                  16         2739           480.0   \n",
            "1851     -124.30     41.80                  19         2672           552.0   \n",
            "1852     -124.23     41.75                  11         3159           616.0   \n",
            "1853     -124.21     41.77                  17         3461           722.0   \n",
            "1854     -124.19     41.78                  15         3140           714.0   \n",
            "...          ...       ...                 ...          ...             ...   \n",
            "20380    -118.83     34.14                  16         1316           194.0   \n",
            "20381    -118.83     34.14                  16         1956           312.0   \n",
            "20423    -119.00     34.08                  17         1822           438.0   \n",
            "20424    -118.75     34.18                   4        16704          2704.0   \n",
            "20425    -118.75     34.17                  18         6217           858.0   \n",
            "\n",
            "       population  households  median_income  median_house_value  \\\n",
            "1850         1259         436         3.7557              109400   \n",
            "1851         1298         478         1.9797               85800   \n",
            "1852         1343         479         2.4805               73200   \n",
            "1853         1947         647         2.5795               68400   \n",
            "1854         1645         640         1.6654               74600   \n",
            "...           ...         ...            ...                 ...   \n",
            "20380         450         173        10.1597              500001   \n",
            "20381         671         319         6.4001              321800   \n",
            "20423         578         291         5.4346              428600   \n",
            "20424        6187        2207         6.6122              357600   \n",
            "20425        2703         834         6.8075              325900   \n",
            "\n",
            "      ocean_proximity  \n",
            "1850       NEAR OCEAN  \n",
            "1851       NEAR OCEAN  \n",
            "1852       NEAR OCEAN  \n",
            "1853       NEAR OCEAN  \n",
            "1854       NEAR OCEAN  \n",
            "...               ...  \n",
            "20380      NEAR OCEAN  \n",
            "20381      NEAR OCEAN  \n",
            "20423      NEAR OCEAN  \n",
            "20424      NEAR OCEAN  \n",
            "20425      NEAR OCEAN  \n",
            "\n",
            "[2658 rows x 10 columns]\n"
          ]
        }
      ]
    },
    {
      "cell_type": "code",
      "source": [
        "#9. Find the mean and median of the median income for the data set created in question 8.\n",
        "mean_median_income=dsn[\"median_income\"].mean()\n",
        "#mean() function is used to calculate the mean/average of input values or data set.\n",
        "print(\"The mean of the median income is\",mean_median_income)"
      ],
      "metadata": {
        "colab": {
          "base_uri": "https://localhost:8080/"
        },
        "id": "6vCQ0xeKM4OH",
        "outputId": "149ad18d-f03d-48ff-8913-4d9882a38401"
      },
      "execution_count": null,
      "outputs": [
        {
          "output_type": "stream",
          "name": "stdout",
          "text": [
            "The mean of the median income is 4.0057848006019565\n"
          ]
        }
      ]
    },
    {
      "cell_type": "code",
      "source": [
        "median_median_income=dsn[\"median_income\"].median()\n",
        "#median() method calculates the median (middle value) of the given data set.\n",
        "print(\"The median of the median income is\",median_median_income)"
      ],
      "metadata": {
        "colab": {
          "base_uri": "https://localhost:8080/"
        },
        "id": "1mgxZpQd9scu",
        "outputId": "097672be-d722-4c3a-e6c4-13f31a8d5e13"
      },
      "execution_count": null,
      "outputs": [
        {
          "output_type": "stream",
          "name": "stdout",
          "text": [
            "The median of the median income is 3.64705\n"
          ]
        }
      ]
    },
    {
      "cell_type": "code",
      "source": [
        "#10. Please create a new column named total_bedroom_size. If the total bedrooms is 10 or less,\n",
        "#it should be quoted as small. If the total bedrooms is 11 or more but less than 1000, it should be medium,\n",
        "#otherwise it should be considered large.\n",
        "def total_br_si(tb):\n",
        "  if tb<=10:\n",
        "   return (\"small\")\n",
        "  elif 10<tb<1000:\n",
        "   return (\"medium\")\n",
        "  else:\n",
        "   return (\"large\")\n",
        "ds1['total_bedroom_size']=ds1['total_bedrooms'].apply(total_br_si)\n",
        "print(ds1)"
      ],
      "metadata": {
        "colab": {
          "base_uri": "https://localhost:8080/"
        },
        "id": "5CWQS6KjM7Ou",
        "outputId": "d68dde6e-e7db-45a0-83e9-128b0f99d660"
      },
      "execution_count": null,
      "outputs": [
        {
          "output_type": "stream",
          "name": "stdout",
          "text": [
            "       longitude  latitude  housing_median_age  total_rooms  total_bedrooms  \\\n",
            "0        -122.23     37.88                  41          880           129.0   \n",
            "1        -122.22     37.86                  21         7099          1106.0   \n",
            "2        -122.24     37.85                  52         1467           190.0   \n",
            "3        -122.25     37.85                  52         1274           235.0   \n",
            "4        -122.25     37.85                  52         1627           280.0   \n",
            "...          ...       ...                 ...          ...             ...   \n",
            "20635    -121.09     39.48                  25         1665           374.0   \n",
            "20636    -121.21     39.49                  18          697           150.0   \n",
            "20637    -121.22     39.43                  17         2254           485.0   \n",
            "20638    -121.32     39.43                  18         1860           409.0   \n",
            "20639    -121.24     39.37                  16         2785           616.0   \n",
            "\n",
            "       population  households  median_income  median_house_value  \\\n",
            "0             322         126         8.3252              452600   \n",
            "1            2401        1138         8.3014              358500   \n",
            "2             496         177         7.2574              352100   \n",
            "3             558         219         5.6431              341300   \n",
            "4             565         259         3.8462              342200   \n",
            "...           ...         ...            ...                 ...   \n",
            "20635         845         330         1.5603               78100   \n",
            "20636         356         114         2.5568               77100   \n",
            "20637        1007         433         1.7000               92300   \n",
            "20638         741         349         1.8672               84700   \n",
            "20639        1387         530         2.3886               89400   \n",
            "\n",
            "      ocean_proximity total_bedroom_size  \n",
            "0            NEAR BAY             medium  \n",
            "1            NEAR BAY              large  \n",
            "2            NEAR BAY             medium  \n",
            "3            NEAR BAY             medium  \n",
            "4            NEAR BAY             medium  \n",
            "...               ...                ...  \n",
            "20635          INLAND             medium  \n",
            "20636          INLAND             medium  \n",
            "20637          INLAND             medium  \n",
            "20638          INLAND             medium  \n",
            "20639          INLAND             medium  \n",
            "\n",
            "[20640 rows x 11 columns]\n"
          ]
        }
      ]
    },
    {
      "cell_type": "code",
      "source": [
        "def is_even(number):\n",
        "  message =  f\"{number} is an even number\" if number % 2 == 0 else  f\"{number} is an odd number\"\n",
        "  return message\n",
        "\n",
        "print(is_even(54))"
      ],
      "metadata": {
        "colab": {
          "base_uri": "https://localhost:8080/"
        },
        "id": "BrlMUc0RrBOX",
        "outputId": "6c650f5d-c5e9-4bfe-bb60-1564aab47197"
      },
      "execution_count": null,
      "outputs": [
        {
          "output_type": "stream",
          "name": "stdout",
          "text": [
            "54 is an even number\n"
          ]
        }
      ]
    },
    {
      "cell_type": "code",
      "source": [
        "is_even(54)"
      ],
      "metadata": {
        "colab": {
          "base_uri": "https://localhost:8080/",
          "height": 36
        },
        "id": "2JRT-afPrnwm",
        "outputId": "004eed55-f130-41fc-ba46-c0e2283e2e51"
      },
      "execution_count": null,
      "outputs": [
        {
          "output_type": "execute_result",
          "data": {
            "text/plain": [
              "'54 is an even number'"
            ],
            "application/vnd.google.colaboratory.intrinsic+json": {
              "type": "string"
            }
          },
          "metadata": {},
          "execution_count": 7
        }
      ]
    }
  ]
}