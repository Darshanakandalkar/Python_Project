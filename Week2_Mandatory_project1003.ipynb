{
  "nbformat": 4,
  "nbformat_minor": 0,
  "metadata": {
    "colab": {
      "provenance": []
    },
    "kernelspec": {
      "name": "python3",
      "display_name": "Python 3"
    },
    "language_info": {
      "name": "python"
    }
  },
  "cells": [
    {
      "cell_type": "code",
      "execution_count": null,
      "metadata": {
        "colab": {
          "base_uri": "https://localhost:8080/"
        },
        "id": "XI4-RoV6RzpI",
        "outputId": "7c45d60b-ca82-4913-ccac-f79c67f1ef3e"
      },
      "outputs": [
        {
          "output_type": "stream",
          "name": "stdout",
          "text": [
            "['Mahesh', 'Ali', 'Jacob']\n"
          ]
        }
      ],
      "source": [
        "#1)Q1: You are working in a bank and you have been given two lists of the employees who worked in 2021.\n",
        "#Employee’s name in list 1 are Ramesh, Suresh, Mahesh, Ali, Jacob and Saritha.\n",
        "#List 2 contains the names of Ali, Mukesh, Mahesh, Jacob, Sai, Sarita.\n",
        "#Please write a program which helps to identify people who are common in both lists.\n",
        "#Please do not use any in-built function.\n",
        "List1= ['Ramesh', 'Suresh', 'Mahesh', 'Ali', 'Jacob']\n",
        "List2= ['Ali', 'Mukesh', 'Mahesh', 'Jacob', 'Sai', 'Sarita']\n",
        "common=list()\n",
        "for i in List1:\n",
        "  for j in List2:\n",
        "     if i==j:\n",
        "       common.append(i)\n",
        "print(common)"
      ]
    },
    {
      "cell_type": "code",
      "source": [
        "#2)Q2: While entering data, someone entered a few names as a common string “Ramesh Suresh Mohit”.\n",
        "#Please write a program which separates all the names and convert them into a list.\n",
        "#Once converted in a list, please write a program which adds their age.\n",
        "#Ramesh : 25\n",
        "#Suresh : 22\n",
        "#Mohit : 26\n",
        "Names=\"Ramesh Suresh Mohit\"\n",
        "list1=Names.split()\n",
        "age=25,22,26\n",
        "print(list1)\n",
        "c=zip(list1,age)\n",
        "for i in c:\n",
        " print(i)"
      ],
      "metadata": {
        "colab": {
          "base_uri": "https://localhost:8080/"
        },
        "id": "e8VlMWjzjsZ7",
        "outputId": "e03f53ef-f134-41a7-a62d-a9701ab6c968"
      },
      "execution_count": null,
      "outputs": [
        {
          "output_type": "stream",
          "name": "stdout",
          "text": [
            "['Ramesh', 'Suresh', 'Mohit']\n",
            "('Ramesh', 25)\n",
            "('Suresh', 22)\n",
            "('Mohit', 26)\n"
          ]
        }
      ]
    },
    {
      "cell_type": "code",
      "source": [
        "#3)Q3: A few students from a university have taken three exams\n",
        "#Name = Sam, Jacy, Tom, Steve\n",
        "#Python = 25, 26, 29, 28\n",
        "#Statistics = 23, 21, 19, 25\n",
        "#SQL = 29, 27, 28, 25\n",
        "#Please write a program which calculates mean values (no in-built function for mean) of all three tests and print the highest mean value.\n",
        "#Addition and other functions are allowed. Please also report who scored the highest mark in python using programming construct.\n",
        "Name = \"Sam Jacy Tom Steve\"\n",
        "students=Name.split()\n",
        "print(students)\n",
        "p=[25, 26, 29, 28] #Python\n",
        "s=[23, 21, 19, 25] #Statistics\n",
        "sq=[29, 27, 28, 25] #SQL\n",
        "mean=[]\n",
        "for i in range(4):\n",
        "  a=mean.append((p[i]+s[i]+sq[i])/3)\n",
        "\n",
        "c=zip(students,mean)\n",
        "for i in c:\n",
        " print(\"Average of 3 tests is :\",i)\n",
        "\n",
        "print(\"Highest average of 3 tests is\" ,max(mean))\n",
        "\n",
        "python=zip(students,p)\n",
        "for i in python:\n",
        "    print(max(python),\"Scored highest marks in python\")"
      ],
      "metadata": {
        "colab": {
          "base_uri": "https://localhost:8080/"
        },
        "id": "KxI1LI8SiGGE",
        "outputId": "9c5085e2-0b12-4207-ff85-3d2ea22dbfd3"
      },
      "execution_count": null,
      "outputs": [
        {
          "output_type": "stream",
          "name": "stdout",
          "text": [
            "['Sam', 'Jacy', 'Tom', 'Steve']\n",
            "Average of 3 tests is : ('Sam', 25.666666666666668)\n",
            "Average of 3 tests is : ('Jacy', 24.666666666666668)\n",
            "Average of 3 tests is : ('Tom', 25.333333333333332)\n",
            "Average of 3 tests is : ('Steve', 26.0)\n",
            "Highest average of 3 tests is 26.0\n",
            "('Tom', 29) Scored highest marks in python\n"
          ]
        }
      ]
    },
    {
      "cell_type": "code",
      "source": [
        "#4)Q4: You are working in a medical store. A patient came to your medical store and asked to buy 2 strips of paracetamol,\n",
        "#3 strips of azithromycin and 5 strips of Vitamin C.\n",
        "#One strip of paracetamol costs Rs 35, one strip of azithromycin costs Rs 49 and one strip of vitamin c costs Rs. 33.\n",
        "#Patient gave you Rs 2000.\n",
        "#Please tell us what is the total cost of each medicine, total cost of all medicine and how much money you refunded to the patient?\n",
        "a=input(\"Enter no. of paracetamol strips :\")\n",
        "b=input(\"Enter no. of azithromycin :\")\n",
        "c=input(\"Enter no. of vitaminc strips :\")\n",
        "p=35\n",
        "az=49\n",
        "v=33\n",
        "t=((int(p)*int(a))+(int(az)*int(b))+(int(v)*int(c)))\n",
        "\n",
        "print(\"Total cost is \",t)\n",
        "\n",
        "r=int(input(\"Money patient gaves :\"))\n",
        "\n",
        "print(\"money refunded to the patient\",r-t)\n",
        ""
      ],
      "metadata": {
        "id": "Zmri3aoSItDx",
        "colab": {
          "base_uri": "https://localhost:8080/"
        },
        "outputId": "9481fb8e-5a0e-4403-e28a-771f325367ba"
      },
      "execution_count": null,
      "outputs": [
        {
          "output_type": "stream",
          "name": "stdout",
          "text": [
            "Enter no. of paracetamol strips :2\n",
            "Enter no. of azithromycin :3\n",
            "Enter no. of vitaminc strips :5\n",
            "Total cost is  382\n",
            "Money patient gaves :2000\n",
            "money refunded to the patient 1618\n"
          ]
        }
      ]
    },
    {
      "cell_type": "code",
      "source": [
        "#5)Q5: Accept a sentence as input and find the number of vowels in it. Assume that the sentence has no punctuation marks.\n",
        "#For example: I am learning python contains 6 vowels.\n",
        "#This function should be applicable for all other different sentences.\n",
        "a=input(\"Enter sentence:\" )\n",
        "count=0\n",
        "for i in a:\n",
        "   if i=='A'or i=='a'or i=='e'or i=='E'or i=='i'or i=='I'or i=='o'or i=='O' or i=='u'or i=='U':\n",
        "     count=count+1\n",
        "\n",
        "print(\"Number of vowels is\",count)"
      ],
      "metadata": {
        "colab": {
          "base_uri": "https://localhost:8080/"
        },
        "id": "ip7XHN-OfyCW",
        "outputId": "c0fc04b6-ba10-456a-c864-aea1a3ecadf3"
      },
      "execution_count": null,
      "outputs": [
        {
          "output_type": "stream",
          "name": "stdout",
          "text": [
            "Enter sentence:I am learning python\n",
            "Number of vowels is 6\n"
          ]
        }
      ]
    },
    {
      "cell_type": "code",
      "source": [
        "#6)Q6: You have been appointed by the election commission to create a website.\n",
        "#Your first task is to work on a program which tells candidates if they are eligible for voting or not.\n",
        "#If they are eligible your output should be ‘Congrats! You are eligible’,\n",
        "#otherwise it should tell that you have to return after X number of years. Eligibility criteria for voting is 18 years.\n",
        "#For example, If someone is 18 or above your output should be ‘Congrats! You are eligible’.\n",
        "#If someone’s age is 15 years it should print output as ‘return after 3 years’\n",
        "age=int(input(\"Enter age: \"))\n",
        "if age>=18:\n",
        "   print(\"‘Congrats! You are eligible for voting’\")\n",
        "elif 0<age<18:\n",
        "   print(\"You have to return after\",(18-age),\"years\")\n",
        "else:\n",
        "   print(\"Invalid age\")"
      ],
      "metadata": {
        "colab": {
          "base_uri": "https://localhost:8080/"
        },
        "id": "EPInuswvzasd",
        "outputId": "01f37f50-88bf-496f-f3a3-9608cf83afd8"
      },
      "execution_count": null,
      "outputs": [
        {
          "output_type": "stream",
          "name": "stdout",
          "text": [
            "Enter age: -17\n",
            "Invalid age\n"
          ]
        }
      ]
    }
  ]
}